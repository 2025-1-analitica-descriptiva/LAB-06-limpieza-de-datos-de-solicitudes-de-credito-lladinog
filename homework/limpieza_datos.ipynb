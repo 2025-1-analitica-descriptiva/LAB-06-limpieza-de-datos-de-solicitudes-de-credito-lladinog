{
 "cells": [
  {
   "cell_type": "code",
   "execution_count": 1052,
   "id": "bcb61138",
   "metadata": {},
   "outputs": [],
   "source": [
    "import pandas as pd\n",
    "import matplotlib.pyplot as plt\n",
    "import seaborn as sns\n",
    "import re"
   ]
  },
  {
   "cell_type": "markdown",
   "id": "1e89d83c",
   "metadata": {},
   "source": [
    "CARGAR ARCHIVO"
   ]
  },
  {
   "cell_type": "code",
   "execution_count": 1053,
   "id": "5f4f8c89",
   "metadata": {},
   "outputs": [
    {
     "name": "stdout",
     "output_type": "stream",
     "text": [
      "   Unnamed: 0       sexo tipo_de_emprendimiento          idea_negocio  \\\n",
      "0           0  masculino               comercio           fabrica de    \n",
      "1           1   femenino               servicio  recreativo-educativo   \n",
      "2           2   femenino               comercio                tienda   \n",
      "3           3  Masculino               comercio            variedades   \n",
      "4           4   femenino               comercio           fabrica de    \n",
      "\n",
      "                   barrio  estrato  comuna_ciudadano fecha_de_beneficio  \\\n",
      "0                   prado        3              10.0         13/07/2018   \n",
      "1          barrio caicedo        1               9.0         30/10/2017   \n",
      "2                aranjuez        2               4.0          3/08/2017   \n",
      "3  cabecera san cristobal        3              60.0         20/11/2017   \n",
      "4                 robledo        2               7.0         23/02/2017   \n",
      "\n",
      "  monto_del_credito     línea_credito  \n",
      "0           5000000  microempresarial  \n",
      "1           6000000  microempresarial  \n",
      "2           7300000  microempresarial  \n",
      "3           7000000  microempresarial  \n",
      "4           5000000  microempresarial  \n"
     ]
    }
   ],
   "source": [
    "df = pd.read_csv(\"../files/input/solicitudes_de_credito.csv\", sep=';', encoding='utf-8')\n",
    "\n",
    "# Ver las primeras 5 filas\n",
    "print(df.head())"
   ]
  },
  {
   "cell_type": "markdown",
   "id": "08cf2978",
   "metadata": {},
   "source": [
    "FUNCIONES"
   ]
  },
  {
   "cell_type": "code",
   "execution_count": 1054,
   "id": "68951e88",
   "metadata": {},
   "outputs": [],
   "source": [
    "def convertir_columna_a_int(df, nombre_columna):\n",
    "    \"\"\"\n",
    "    Convierte una columna de un DataFrame a tipo entero (int).\n",
    "    \"\"\"\n",
    "    # Convertir a string\n",
    "    df[nombre_columna] = df[nombre_columna].astype(str)\n",
    "    # Eliminar caracteres no deseados\n",
    "    df[nombre_columna] = df[nombre_columna].str.replace(r'[$,.\\s]', '', regex=True)\n",
    "    # Convertir a int\n",
    "    df[nombre_columna] = df[nombre_columna].astype(int)\n",
    "    return df"
   ]
  },
  {
   "cell_type": "code",
   "execution_count": 1055,
   "id": "973d4155",
   "metadata": {},
   "outputs": [],
   "source": [
    "def convertir_columna_a_float(df, nombre_columna):\n",
    "    \"\"\"\n",
    "    Convierte una columna de un DataFrame a float limpiando primero los caracteres\n",
    "    '$', ',', y espacios, manteniendo el punto decimal.\n",
    "    \"\"\"\n",
    "    # Convertir a string\n",
    "    df[nombre_columna] = df[nombre_columna].astype(str)\n",
    "    # Eliminar caracteres $ , y espacios\n",
    "    df[nombre_columna] = df[nombre_columna].str.replace(r'[$,\\s]', '', regex=True)\n",
    "    # Convertir a float\n",
    "    df[nombre_columna] = df[nombre_columna].astype(float)\n",
    "    return df\n"
   ]
  },
  {
   "cell_type": "code",
   "execution_count": 1056,
   "id": "38cba88a",
   "metadata": {},
   "outputs": [],
   "source": [
    "def convertir_columna_categorica(df, nombre_columna):\n",
    "    # Convertir a string\n",
    "    df[nombre_columna] = df[nombre_columna].astype(str)\n",
    "\n",
    "    # Convertir a categoría\n",
    "    df[nombre_columna] = df[nombre_columna].astype('category')\n",
    "\n",
    "    return df\n"
   ]
  },
  {
   "cell_type": "code",
   "execution_count": 1057,
   "id": "179f326e",
   "metadata": {},
   "outputs": [],
   "source": [
    "def normalizar_a_dia_mes_ano(fecha_str):\n",
    "    \"\"\"\n",
    "    Normaliza y convierte fechas a formato dd/mm/yyyy como string,\n",
    "    agregando ceros y reordenando si es necesario.\n",
    "    \"\"\"\n",
    "    if pd.isna(fecha_str):\n",
    "        return fecha_str\n",
    "\n",
    "    sep = '/' if '/' in fecha_str else '-'\n",
    "    partes = fecha_str.split(sep)\n",
    "    \n",
    "    if len(partes) == 3:\n",
    "        if len(partes[0]) == 4:  # yyyy/mm/dd\n",
    "            # Reordenar a dd/mm/yyyy\n",
    "            year, month, day = partes\n",
    "            day = day.zfill(2)\n",
    "            month = month.zfill(2)\n",
    "            return f\"{day}/{month}/{year}\"\n",
    "        else:  # dd/mm/yyyy o mm/dd/yyyy (asumimos dd/mm/yyyy)\n",
    "            day, month, year = partes\n",
    "            day = day.zfill(2)\n",
    "            month = month.zfill(2)\n",
    "            return f\"{day}/{month}/{year}\"\n",
    "    else:\n",
    "        return fecha_str\n"
   ]
  },
  {
   "cell_type": "code",
   "execution_count": 1058,
   "id": "343f9874",
   "metadata": {},
   "outputs": [],
   "source": [
    "def convertir_columna_a_fecha(df, nombre_columna):\n",
    "    \"\"\"\n",
    "    Convierte una columna de un DataFrame a tipo fecha (datetime), \n",
    "    manejando formatos mixtos como 'd/m/Y' y 'Y/m/d'.\n",
    "    \"\"\"   \n",
    "    df[nombre_columna] = df[nombre_columna].astype(str).str.strip()\n",
    "    df[nombre_columna] = df[nombre_columna].apply(normalizar_a_dia_mes_ano)\n",
    "    df[nombre_columna] = pd.to_datetime(df[nombre_columna], dayfirst=True, errors='coerce')\n",
    "    return df\n",
    "\n"
   ]
  },
  {
   "cell_type": "code",
   "execution_count": 1059,
   "id": "bd050d27",
   "metadata": {},
   "outputs": [],
   "source": [
    "def convertir_strings_a_minusculas(df):\n",
    "    \"\"\"\n",
    "    Convierte todas las columnas de tipo string en un DataFrame a minúsculas.\n",
    "    \n",
    "    Parámetros:\n",
    "    - df: pandas.DataFrame\n",
    "    \n",
    "    Retorna:\n",
    "    - DataFrame con strings en minúsculas\n",
    "    \"\"\"\n",
    "    for col in df.select_dtypes(include=['object', 'string']).columns:\n",
    "        df[col] = df[col].str.lower()\n",
    "    return df\n"
   ]
  },
  {
   "cell_type": "code",
   "execution_count": 1060,
   "id": "ef2c6d2e",
   "metadata": {},
   "outputs": [],
   "source": [
    "def valores_unicos_por_columna_objeto_con_cuenta(df):\n",
    "    \"\"\"\n",
    "    Para cada columna de tipo object en el DataFrame,\n",
    "    devuelve un diccionario con la columna y sus valores únicos en forma de lista,\n",
    "    y además imprime el número de valores únicos.\n",
    "    \"\"\"\n",
    "    resultado = {}\n",
    "    for col in df.select_dtypes(include=['object']).columns:\n",
    "        únicos = df[col].dropna().unique().tolist()\n",
    "        resultado[col] = únicos\n",
    "    return resultado\n"
   ]
  },
  {
   "cell_type": "code",
   "execution_count": 1061,
   "id": "e3d35e6d",
   "metadata": {},
   "outputs": [],
   "source": [
    "def limpiar_espacios_en_strings(df):\n",
    "    \"\"\"\n",
    "    En columnas string, reemplaza '_', '-', '.', ',' por espacio,\n",
    "    luego reduce múltiples espacios a uno solo y elimina espacios al inicio y final.\n",
    "    \"\"\"\n",
    "    for col in df.select_dtypes(include=['object', 'string']).columns:\n",
    "        # Reemplazar caracteres por espacio\n",
    "        df[col] = df[col].str.replace(r'[_\\-.,]', ' ', regex=True)\n",
    "        # Reducir múltiples espacios a uno\n",
    "        df[col] = df[col].str.replace(r'\\s+', ' ', regex=True)\n",
    "        # Quitar espacios al inicio y al final\n",
    "        df[col] = df[col].str.strip()\n",
    "    return df\n"
   ]
  },
  {
   "cell_type": "code",
   "execution_count": 1062,
   "id": "24d23649",
   "metadata": {},
   "outputs": [],
   "source": [
    "def eliminar_filas_con_nulos(df):\n",
    "    \"\"\"\n",
    "    Elimina todas las filas del DataFrame que contengan al menos un valor nulo.\n",
    "    Retorna el DataFrame limpio.\n",
    "    \"\"\"\n",
    "    df_limpio = df.dropna()\n",
    "    return df_limpio\n"
   ]
  },
  {
   "cell_type": "code",
   "execution_count": 1063,
   "id": "4c148dba",
   "metadata": {},
   "outputs": [],
   "source": [
    "def imprimir_valores_columnas_categoricas(df):\n",
    "    \"\"\"\n",
    "    Imprime los valores únicos de todas las columnas categóricas en el DataFrame.\n",
    "    \n",
    "    Parámetro:\n",
    "    - df: pandas.DataFrame\n",
    "    \"\"\"\n",
    "    columnas_categoricas = df.select_dtypes(include=['category']).columns\n",
    "    for col in columnas_categoricas:\n",
    "        print(f\"\\nColumna: {col}\")\n",
    "        print(f\"Valores únicos ({df[col].nunique()}): {df[col].cat.categories.tolist()}\")\n"
   ]
  },
  {
   "cell_type": "markdown",
   "id": "caa4aae6",
   "metadata": {},
   "source": [
    "FUNCIONES PERSONALIZADAS"
   ]
  },
  {
   "cell_type": "code",
   "execution_count": 1064,
   "id": "3a4f0180",
   "metadata": {},
   "outputs": [],
   "source": [
    "def limpiar_barrio(texto):\n",
    "    if not isinstance(texto, str):\n",
    "        return texto  # Si es NaN o no str, devolver tal cual\n",
    "    \n",
    "    # Quitar prefijos 'barrio', 'vereda', 'vrda' y variaciones\n",
    "    texto = re.sub(r'\\b(barrio|vereda|vrda|villa|suburbano|sector|unidad|urbanización|urbanizacion|urbanizaci[oó]n)\\b', '', texto)\n",
    "    \n",
    "    # Quitar numeraciones tipo ' no 1', ' no 2', ' no', etc.\n",
    "    texto = re.sub(r'\\bno\\s*\\d*\\b', '', texto)\n",
    "    \n",
    "    # Corregir caracteres extraños (ejemplo 'bel¿n' → 'belen')\n",
    "    texto = texto.replace('¿', '').replace('í', 'i').replace('ó', 'o').replace('á', 'a').replace('é', 'e').replace('ú', 'u')\n",
    "    \n",
    "    # Quitar caracteres especiales que no sean letras ni números ni espacios\n",
    "    texto = re.sub(r'[^a-z0-9\\s]', '', texto)\n",
    "    \n",
    "    # Reemplazar múltiples espacios por uno solo\n",
    "    texto = re.sub(r'\\s+', ' ', texto)\n",
    "    \n",
    "    # Quitar espacios al inicio y final\n",
    "    texto = texto.strip()\n",
    "    \n",
    "    return texto"
   ]
  },
  {
   "cell_type": "code",
   "execution_count": 1065,
   "id": "d9adb184",
   "metadata": {},
   "outputs": [],
   "source": [
    "def normalizar_idea_negocio(texto):\n",
    "    if not isinstance(texto, str):\n",
    "        return texto\n",
    "    texto = texto.lower().strip()\n",
    "        \n",
    "     # Quitar artículos/preposiciones comunes\n",
    "    texto = re.sub(r'\\b(de|la|el|y|en|para|con|del)\\b', '', texto)\n",
    "    texto = re.sub(r'\\s+', ' ', texto).strip()\n",
    "        \n",
    "    # Agrupar categorías genéricas\n",
    "    if texto.startswith('fabrica'):\n",
    "        return 'fabrica'\n",
    "    if texto.startswith('venta'):\n",
    "        return 'venta'\n",
    "    if texto.startswith('tienda'):\n",
    "        return 'tienda'\n",
    "    if texto.startswith('taller'):\n",
    "        return 'taller'\n",
    "    if texto.startswith('deposito'):\n",
    "        return 'deposito'\n",
    "    if texto in ['servicios', 'servicio']:\n",
    "        return 'servicios'\n",
    "\n",
    "    return texto\n"
   ]
  },
  {
   "cell_type": "code",
   "execution_count": 1066,
   "id": "a2cd3df1",
   "metadata": {},
   "outputs": [],
   "source": [
    "def detectar_outliers_iqr(df, columna):\n",
    "    \"\"\"\n",
    "    Detecta y muestra outliers usando el método del IQR.\n",
    "    También grafica los valores con un boxplot.\n",
    "    \"\"\"\n",
    "    Q1 = df[columna].quantile(0.25)\n",
    "    Q3 = df[columna].quantile(0.75)\n",
    "    IQR = Q3 - Q1\n",
    "    limite_inferior = Q1 - 10.0 * IQR\n",
    "    limite_superior = Q3 + 10.0 * IQR\n",
    "\n",
    "    outliers = df[(df[columna] < limite_inferior) | (df[columna] > limite_superior)]\n",
    "    \n",
    "    print(f\"Outliers detectados en '{columna}': {len(outliers)}\")\n",
    "    print(f\"Rango permitido: {limite_inferior:.2f} a {limite_superior:.2f}\")\n",
    "    \n",
    "    # Boxplot\n",
    "    plt.figure(figsize=(8, 4))\n",
    "    sns.boxplot(x=df[columna])\n",
    "    plt.title(f'Boxplot de {columna}')\n",
    "    plt.show()\n",
    "\n",
    "    return outliers\n"
   ]
  },
  {
   "cell_type": "code",
   "execution_count": 1067,
   "id": "d32ddc79",
   "metadata": {},
   "outputs": [],
   "source": [
    "def eliminar_n_mayores(df, nombre_columna, n):\n",
    "    \"\"\"\n",
    "    Elimina las filas que contienen los n valores más grandes de una columna.\n",
    "    \n",
    "    Parámetros:\n",
    "    - df: DataFrame original\n",
    "    - nombre_columna: str, nombre de la columna a analizar\n",
    "    - n: int, cantidad de valores más grandes a eliminar\n",
    "\n",
    "    Retorna:\n",
    "    - DataFrame sin las filas con los n valores más altos\n",
    "    \"\"\"\n",
    "    # Obtener los índices de los n valores más grandes\n",
    "    indices_a_eliminar = df[nombre_columna].nlargest(n).index\n",
    "    # Eliminar esas filas\n",
    "    df_filtrado = df.drop(index=indices_a_eliminar)\n",
    "    return df_filtrado\n"
   ]
  },
  {
   "cell_type": "markdown",
   "id": "1c702620",
   "metadata": {},
   "source": [
    "ELIMINAR VALORES NULOS INECESARIOS"
   ]
  },
  {
   "cell_type": "code",
   "execution_count": 1068,
   "id": "4940f573",
   "metadata": {},
   "outputs": [
    {
     "name": "stdout",
     "output_type": "stream",
     "text": [
      "Unnamed: 0                  0\n",
      "sexo                        0\n",
      "tipo_de_emprendimiento    102\n",
      "idea_negocio                0\n",
      "barrio                    102\n",
      "estrato                     0\n",
      "comuna_ciudadano            0\n",
      "fecha_de_beneficio          0\n",
      "monto_del_credito           0\n",
      "línea_credito               0\n",
      "dtype: int64\n",
      "Unnamed: 0                0.00\n",
      "sexo                      0.00\n",
      "tipo_de_emprendimiento    0.93\n",
      "idea_negocio              0.00\n",
      "barrio                    0.93\n",
      "estrato                   0.00\n",
      "comuna_ciudadano          0.00\n",
      "fecha_de_beneficio        0.00\n",
      "monto_del_credito         0.00\n",
      "línea_credito             0.00\n",
      "dtype: float64\n"
     ]
    }
   ],
   "source": [
    "# Conteo de valores nulos por columna\n",
    "print(df.isnull().sum())\n",
    "\n",
    "# Porcentaje de valores nulos\n",
    "print((df.isnull().mean() * 100).round(2))\n",
    "\n",
    "df = eliminar_filas_con_nulos(df)"
   ]
  },
  {
   "cell_type": "markdown",
   "id": "0c5db126",
   "metadata": {},
   "source": [
    "CONVERTIR TIPOS DE COLUMNAS "
   ]
  },
  {
   "cell_type": "code",
   "execution_count": 1069,
   "id": "0ba35fb6",
   "metadata": {},
   "outputs": [
    {
     "name": "stdout",
     "output_type": "stream",
     "text": [
      "<class 'pandas.core.frame.DataFrame'>\n",
      "Index: 10716 entries, 0 to 10919\n",
      "Data columns (total 10 columns):\n",
      " #   Column                  Non-Null Count  Dtype         \n",
      "---  ------                  --------------  -----         \n",
      " 0   Unnamed: 0              10716 non-null  int64         \n",
      " 1   sexo                    10716 non-null  object        \n",
      " 2   tipo_de_emprendimiento  10716 non-null  object        \n",
      " 3   idea_negocio            10716 non-null  object        \n",
      " 4   barrio                  10716 non-null  object        \n",
      " 5   estrato                 10716 non-null  category      \n",
      " 6   comuna_ciudadano        10716 non-null  category      \n",
      " 7   fecha_de_beneficio      10716 non-null  datetime64[ns]\n",
      " 8   monto_del_credito       10716 non-null  int64         \n",
      " 9   línea_credito           10716 non-null  object        \n",
      "dtypes: category(2), datetime64[ns](1), int64(2), object(5)\n",
      "memory usage: 775.3+ KB\n",
      "None\n"
     ]
    }
   ],
   "source": [
    "df= convertir_columna_a_int(df, \"monto_del_credito\")\n",
    "df= convertir_columna_a_int(df, \"comuna_ciudadano\")\n",
    "df= convertir_columna_a_fecha(df, \"fecha_de_beneficio\")\n",
    "df= convertir_columna_categorica(df, \"estrato\")\n",
    "df= convertir_columna_categorica(df, \"comuna_ciudadano\")\n",
    "\n",
    "print(df.info())"
   ]
  },
  {
   "cell_type": "markdown",
   "id": "992299a4",
   "metadata": {},
   "source": [
    "TRANSFORMAR COLUMNAS CATEGORICAS"
   ]
  },
  {
   "cell_type": "code",
   "execution_count": 1070,
   "id": "090bf4bf",
   "metadata": {},
   "outputs": [
    {
     "name": "stdout",
     "output_type": "stream",
     "text": [
      "Columna 'sexo': 2,['masculino', 'femenino']\n",
      "Columna 'tipo_de_emprendimiento': 4,['comercio', 'servicio', 'industria', 'agropecuaria']\n",
      "Columna 'idea_negocio': 56,['fabrica', 'recreativo educativo', 'tienda', 'variedades', 'sembrados', 'comidas rapidas', 'miscelanea', 'cafe e internet', 'venta', 'productos belleza', 'almacen ropa', 'barberia', 'peluqueria', 'jardineria', 'panaderia', 'mantenimiento', 'bares', 'criadero animales', 'restaurante', 'organización', 'carpinteria', 'drogueria', 'productos mar', 'ebanistaria', 'papeleria', 'carniceria', 'cafeteria', 'legumbreria', 'ferreteria', 'distribuidora', 'taller', 'lavanderia', 'servicios', 'billares', 'licorera', 'marroquineria', 'granero', 'deposito', 'reciclaje', 'cerrajeria', 'charcuteria', 'fotografia', 'hoteles moteles', 'viveros', 'publicidad', 'joyeria', 'lenceria', 'lavadero', 'montallantas', 'marqueteria', 'gimnasio', 'fumigacion', 'floristeria', 'pañalera', 'mensajeria', 'alquiler peliculas']\n",
      "Columna 'barrio': 209,['prado', 'caicedo', 'aranjuez', 'cabecera san cristobal', 'robledo', 'picachito', 'guayabal', 'carpinelo', 'belalcazar', 'manrique central', 'santa elena central', 'andalucia', 'san javier', 'belencito', 'centro admtivo', 'cabecera san antonio', 'hermosa', 'playon de los', 'buenos aires', 'popular', 'tricentenario', 'calasanz', 'pedregal', 'la francia', 'santa cruz', 'la floresta', 'belen', 'las brisas', 'castilla', 'santander', 'la milagrosa', 'bombona', 'manrique oriental', 'liliam', 'kennedy', 'doce de octubre', 'enciso', 'el salvador', 'la esperanza', 'santo domingo savio', 'campo valdes', 'las palmas', 'girardot', 'moravia', 'antonio nario', 'el socorro', 'lopez de mesa', 'aures', 'san jose de la cima', 'palermo', '13 de noviembre', 'tejelo', 'francisco antonio zea', 'picacho', 'la loma oriental', 'la loma', 'florencia', 'pedregal alto', 'del socorro', 'la libertad', 'el chagualo', 'trinidad', 'el poblado', '20 de julio', 'la pradera', 'san pablo', 'jardin botanico', 'san antonio', 'miranda', 'las esmeraldas', 'pablo vi', 'boyaca', 'san joaquin', 'la america', 'niza', 'el pinal', 'la colina', 'san benito', 'manila', 'la palma', 'olaya herrera', 'san martin de porres', 'la cruz', 'boston', 'llanaditas', 'toscana', 'villatina', 'alfonso lopez', 'granizal', 'el progreso', 'guadalupe', 'cordoba', 'juan xxiii la quiebra', 'versalles', 'santa rosa de lima', 'cristo rey', 'moscu', 'palmitas', 'san german', 'el rincon', 'blanquizal', 'la candelaria', 'la sierra', 'sucre', 'maria cano', 'aguas frias', 'ocho de marzo', 'campo amor', 'calasanz parte alta', 'altavista', 'san cristobal', 'pajarito', 'santa lucia', 'la avanzada', 'loreto', 'los mangos', 'san pedro', 'santa ines', 'beln', 'el vergel', 'san diego', 'gerona', 'el triunfo', 'bello horizonte', 'granada', 'eduardo santos', 'cristobal', 'sevilla', 'el raizal', 'jesus nazareno', 'el salado', 'bosques de san pablo', 'campo alegre', 'nuevos conquistadores', 'la frontera', 'santa fe', 'las violetas', 'fuente clara', 'la isla', 'santa monica', 'el compromiso', 'el diamante', 'juan pablo ii', 'santa elena', 'colon', 'el astillero', 'santa margarita', 'santa teresita', 'loma de los bernal', 'altamira', 'los alcazares', 'palenque', 'las granjas', 'el corazon', 'la ladera', 'las independencias', 'la florida', 'cataluna', 'el rodeo', 'veinte de julio', 'alejandro echavarria', 'el pesebre', 'parque norte', 'sin', 'santa maria de los', 'barro blanco', 'progreso', 'la cuchilla', 'la salle', 'laureles', 'la aguacatala', 'hector abad gomez', 'rosales', 'colombia', 'caribe', 'nueva', 'yarumalito', 'zona expansion san', 'metropolitano', 'naranjal', 'de jesus', 'san isidro', 'la oculta', 'carlos e restrepo', 'brasilia', 'travesias', 'miraflores', 'la volcana y guayabal', 'la hondonada', 'oriente', 'betania', 'los angeles', 'la mansion', 'los cerros el vergel', 'san bernardo', 'fatima', 'turbay', 'miravalle', 'oleoducto', 'universidad de', 'san jose de la montaa', 'florida nueva', 'monteclaro', 'la aldea', 'flora', 'mirador del doce', 'barro', 'el estadio', 'el llano']\n"
     ]
    }
   ],
   "source": [
    "df= convertir_strings_a_minusculas(df)\n",
    "df= limpiar_espacios_en_strings(df)\n",
    "df= convertir_columna_categorica(df, \"línea_credito\")\n",
    "\n",
    "df['barrio'] = df['barrio'].apply(limpiar_barrio)\n",
    "df['idea_negocio'] = df['idea_negocio'].apply(normalizar_idea_negocio)\n",
    "\n",
    "unicos = valores_unicos_por_columna_objeto(df)\n",
    "for columna, valores in unicos.items():\n",
    "    print(f\"Columna '{columna}': {len(valores)},{valores}\")"
   ]
  },
  {
   "cell_type": "code",
   "execution_count": 1071,
   "id": "b3098dc0",
   "metadata": {},
   "outputs": [
    {
     "name": "stdout",
     "output_type": "stream",
     "text": [
      "<class 'pandas.core.frame.DataFrame'>\n",
      "Index: 10716 entries, 0 to 10919\n",
      "Data columns (total 10 columns):\n",
      " #   Column                  Non-Null Count  Dtype         \n",
      "---  ------                  --------------  -----         \n",
      " 0   Unnamed: 0              10716 non-null  int64         \n",
      " 1   sexo                    10716 non-null  category      \n",
      " 2   tipo_de_emprendimiento  10716 non-null  category      \n",
      " 3   idea_negocio            10716 non-null  object        \n",
      " 4   barrio                  10716 non-null  object        \n",
      " 5   estrato                 10716 non-null  category      \n",
      " 6   comuna_ciudadano        10716 non-null  category      \n",
      " 7   fecha_de_beneficio      10716 non-null  datetime64[ns]\n",
      " 8   monto_del_credito       10716 non-null  int64         \n",
      " 9   línea_credito           10716 non-null  category      \n",
      "dtypes: category(5), datetime64[ns](1), int64(2), object(2)\n",
      "memory usage: 556.2+ KB\n",
      "None\n"
     ]
    }
   ],
   "source": [
    "df= convertir_columna_categorica(df, \"sexo\")\n",
    "df= convertir_columna_categorica(df, \"tipo_de_emprendimiento\")\n",
    "\n",
    "\n",
    "print(df.info())"
   ]
  },
  {
   "cell_type": "code",
   "execution_count": 1072,
   "id": "c878df43",
   "metadata": {},
   "outputs": [
    {
     "name": "stdout",
     "output_type": "stream",
     "text": [
      "\n",
      "Columna: sexo\n",
      "Valores únicos (2): ['femenino', 'masculino']\n",
      "\n",
      "Columna: tipo_de_emprendimiento\n",
      "Valores únicos (4): ['agropecuaria', 'comercio', 'industria', 'servicio']\n",
      "\n",
      "Columna: estrato\n",
      "Valores únicos (4): ['0', '1', '2', '3']\n",
      "\n",
      "Columna: comuna_ciudadano\n",
      "Valores únicos (21): ['10', '100', '110', '120', '130', '140', '150', '160', '20', '30', '40', '50', '500', '60', '600', '70', '700', '80', '800', '90', '900']\n",
      "\n",
      "Columna: línea_credito\n",
      "Valores únicos (9): ['agropecuaria', 'ayacucho formal', 'credioportuno', 'empresarial ed', 'fomento agropecuario', 'juridica y cap semilla', 'microempresarial', 'soli diaria', 'solidaria']\n"
     ]
    }
   ],
   "source": [
    "imprimir_valores_columnas_categoricas(df)"
   ]
  },
  {
   "cell_type": "code",
   "execution_count": 1073,
   "id": "93b83dd4",
   "metadata": {},
   "outputs": [
    {
     "name": "stdout",
     "output_type": "stream",
     "text": [
      "[6938, 3778]\n"
     ]
    }
   ],
   "source": [
    "print(df.sexo.value_counts().to_list())\n",
    "#[6938, 3778]=10716\n",
    "#[6617, 3589]=10206\n",
    "#510"
   ]
  },
  {
   "cell_type": "markdown",
   "id": "d6da068a",
   "metadata": {},
   "source": [
    "ENCONTRAR OUTLINERS"
   ]
  },
  {
   "cell_type": "code",
   "execution_count": 1074,
   "id": "f59db2b1",
   "metadata": {},
   "outputs": [
    {
     "name": "stdout",
     "output_type": "stream",
     "text": [
      "Series([], Name: monto_del_credito, dtype: int64)\n"
     ]
    }
   ],
   "source": [
    "negativos = df[df['monto_del_credito'] < 0]['monto_del_credito']\n",
    "print(negativos)"
   ]
  },
  {
   "cell_type": "code",
   "execution_count": null,
   "id": "b2708004",
   "metadata": {},
   "outputs": [],
   "source": [
    "#df= eliminar_n_mayores(df, 'monto_del_credito', 510)"
   ]
  },
  {
   "cell_type": "code",
   "execution_count": 1076,
   "id": "8e2aa59f",
   "metadata": {},
   "outputs": [
    {
     "name": "stdout",
     "output_type": "stream",
     "text": [
      "Outliers detectados en 'monto_del_credito': 77\n",
      "Rango permitido: -29700000.00 a 41070000.00\n"
     ]
    },
    {
     "data": {
      "image/png": "[encoded data removed]",
      "text/plain": [
       "<Figure size 800x400 with 1 Axes>"
      ]
     },
     "metadata": {},
     "output_type": "display_data"
    }
   ],
   "source": [
    "outliers_credito = detectar_outliers_iqr(df, 'monto_del_credito')\n",
    "#df = df[~df.index.isin(outliers_credito.index)]\n"
   ]
  },
  {
   "cell_type": "code",
   "execution_count": 1077,
   "id": "6a791b64",
   "metadata": {},
   "outputs": [
    {
     "name": "stdout",
     "output_type": "stream",
     "text": [
      "[6615, 3591]\n"
     ]
    }
   ],
   "source": [
    "print(df.sexo.value_counts().to_list())"
   ]
  }
 ],
 "metadata": {
  "kernelspec": {
   "display_name": ".venv",
   "language": "python",
   "name": "python3"
  },
  "language_info": {
   "codemirror_mode": {
    "name": "ipython",
    "version": 3
   },
   "file_extension": ".py",
   "mimetype": "text/x-python",
   "name": "python",
   "nbconvert_exporter": "python",
   "pygments_lexer": "ipython3",
   "version": "3.13.3"
  }
 },
 "nbformat": 4,
 "nbformat_minor": 5
}
