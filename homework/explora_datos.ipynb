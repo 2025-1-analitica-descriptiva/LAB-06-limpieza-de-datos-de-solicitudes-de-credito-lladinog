{
 "cells": [
  {
   "cell_type": "markdown",
   "id": "2ef580fa",
   "metadata": {},
   "source": [
    "IMPORTAR LIBRERIAS"
   ]
  },
  {
   "cell_type": "code",
   "execution_count": null,
   "id": "fe750ca5",
   "metadata": {},
   "outputs": [
    {
     "name": "stdout",
     "output_type": "stream",
     "text": [
      "c:\\Users\\llgga\\Personal\\2025-1\\AD Y VD\\LAB-06-limpieza-de-datos-de-solicitudes-de-credito-lladinog\\homework\n"
     ]
    }
   ],
   "source": [
    "import pandas as pd\n",
    "import matplotlib.pyplot as plt\n",
    "import seaborn as sns\n",
    "import os\n"
   ]
  },
  {
   "cell_type": "markdown",
   "id": "ba438ebd",
   "metadata": {},
   "source": [
    "CARGAR ARCHIVO"
   ]
  },
  {
   "cell_type": "code",
   "execution_count": 27,
   "id": "43363484",
   "metadata": {},
   "outputs": [
    {
     "name": "stdout",
     "output_type": "stream",
     "text": [
      "Ruta actual de trabajo: c:\\Users\\llgga\\Personal\\2025-1\\AD Y VD\\LAB-06-limpieza-de-datos-de-solicitudes-de-credito-lladinog\\homework\n",
      "✅ Archivo encontrado: ../files/input/solicitudes_de_credito.csv\n",
      "\n",
      "Primeras 5 líneas crudas del archivo:\n",
      ";sexo;tipo_de_emprendimiento;idea_negocio;barrio;estrato;comuna_ciudadano;fecha_de_beneficio;monto_del_credito;línea_credito\n",
      "\n",
      "0;masculino;comercio;fabrica de ;prado;3;10.0;13/07/2018;5000000;microempresarial\n",
      "\n",
      "1;femenino;servicio;recreativo-educativo;barrio caicedo;1;9.0;30/10/2017;6000000;microempresarial\n",
      "\n",
      "2;femenino;comercio;tienda;aranjuez;02;4.0;3/08/2017;7300000;microempresarial\n",
      "\n",
      "3;Masculino;comercio;variedades;cabecera san cristobal;3;60.0;20/11/2017;7000000;microempresarial\n",
      "\n",
      "\n",
      "✅ Lectura con pandas exitosa:\n",
      "   Unnamed: 0       sexo tipo_de_emprendimiento          idea_negocio  \\\n",
      "0           0  masculino               comercio           fabrica de    \n",
      "1           1   femenino               servicio  recreativo-educativo   \n",
      "2           2   femenino               comercio                tienda   \n",
      "3           3  Masculino               comercio            variedades   \n",
      "4           4   femenino               comercio           fabrica de    \n",
      "\n",
      "                   barrio  estrato  comuna_ciudadano fecha_de_beneficio  \\\n",
      "0                   prado        3              10.0         13/07/2018   \n",
      "1          barrio caicedo        1               9.0         30/10/2017   \n",
      "2                aranjuez        2               4.0          3/08/2017   \n",
      "3  cabecera san cristobal        3              60.0         20/11/2017   \n",
      "4                 robledo        2               7.0         23/02/2017   \n",
      "\n",
      "  monto_del_credito     línea_credito  \n",
      "0           5000000  microempresarial  \n",
      "1           6000000  microempresarial  \n",
      "2           7300000  microempresarial  \n",
      "3           7000000  microempresarial  \n",
      "4           5000000  microempresarial  \n"
     ]
    }
   ],
   "source": [
    "# Ruta relativa al archivo desde el notebook\n",
    "ruta_archivo = \"../files/input/solicitudes_de_credito.csv\"\n",
    "\n",
    "# Verifica dónde estás parado\n",
    "print(f\"Ruta actual de trabajo: {os.getcwd()}\")\n",
    "\n",
    "# Verifica si el archivo existe\n",
    "if not os.path.exists(ruta_archivo):\n",
    "    print(f\"❌ Archivo no encontrado en la ruta: {ruta_archivo}\")\n",
    "    print(\"Contenido de la carpeta actual:\")\n",
    "    print(os.listdir('.'))\n",
    "    print(\"Contenido del directorio ../files/input/:\")\n",
    "    print(os.listdir('../files/input') if os.path.exists('../files/input') else \"No existe el directorio\")\n",
    "else:\n",
    "    print(f\"✅ Archivo encontrado: {ruta_archivo}\")\n",
    "    \n",
    "    # Prueba de lectura sin procesar\n",
    "    print(\"\\nPrimeras 5 líneas crudas del archivo:\")\n",
    "    with open(ruta_archivo, 'r', encoding='utf-8', errors='replace') as f:\n",
    "        for _ in range(5):\n",
    "            print(f.readline())\n",
    "\n",
    "    # Intento de leer con pandas\n",
    "    try:\n",
    "        import pandas as pd\n",
    "        df = pd.read_csv(ruta_archivo, sep=';', encoding='utf-8')\n",
    "        print(\"\\n✅ Lectura con pandas exitosa:\")\n",
    "        print(df.head())\n",
    "    except Exception as e:\n",
    "        print(\"\\n❌ Error al leer con pandas:\")\n",
    "        print(type(e).__name__, \"-\", e)\n"
   ]
  },
  {
   "cell_type": "code",
   "execution_count": 28,
   "id": "82ae8de8",
   "metadata": {},
   "outputs": [
    {
     "name": "stdout",
     "output_type": "stream",
     "text": [
      "   Unnamed: 0       sexo tipo_de_emprendimiento          idea_negocio  \\\n",
      "0           0  masculino               comercio           fabrica de    \n",
      "1           1   femenino               servicio  recreativo-educativo   \n",
      "2           2   femenino               comercio                tienda   \n",
      "3           3  Masculino               comercio            variedades   \n",
      "4           4   femenino               comercio           fabrica de    \n",
      "\n",
      "                   barrio  estrato  comuna_ciudadano fecha_de_beneficio  \\\n",
      "0                   prado        3              10.0         13/07/2018   \n",
      "1          barrio caicedo        1               9.0         30/10/2017   \n",
      "2                aranjuez        2               4.0          3/08/2017   \n",
      "3  cabecera san cristobal        3              60.0         20/11/2017   \n",
      "4                 robledo        2               7.0         23/02/2017   \n",
      "\n",
      "  monto_del_credito     línea_credito  \n",
      "0           5000000  microempresarial  \n",
      "1           6000000  microempresarial  \n",
      "2           7300000  microempresarial  \n",
      "3           7000000  microempresarial  \n",
      "4           5000000  microempresarial  \n"
     ]
    }
   ],
   "source": [
    "df = pd.read_csv(\"../files/input/solicitudes_de_credito.csv\", sep=';', encoding='utf-8')\n",
    "\n",
    "# Ver las primeras 5 filas\n",
    "print(df.head())"
   ]
  },
  {
   "cell_type": "markdown",
   "id": "61cb77d7",
   "metadata": {},
   "source": [
    "INFORMACIÓN GENERAL DEL DATAFRAME"
   ]
  },
  {
   "cell_type": "code",
   "execution_count": 29,
   "id": "ab69a4b3",
   "metadata": {},
   "outputs": [
    {
     "name": "stdout",
     "output_type": "stream",
     "text": [
      "(10920, 10)\n",
      "<class 'pandas.core.frame.DataFrame'>\n",
      "RangeIndex: 10920 entries, 0 to 10919\n",
      "Data columns (total 10 columns):\n",
      " #   Column                  Non-Null Count  Dtype  \n",
      "---  ------                  --------------  -----  \n",
      " 0   Unnamed: 0              10920 non-null  int64  \n",
      " 1   sexo                    10920 non-null  object \n",
      " 2   tipo_de_emprendimiento  10818 non-null  object \n",
      " 3   idea_negocio            10920 non-null  object \n",
      " 4   barrio                  10818 non-null  object \n",
      " 5   estrato                 10920 non-null  int64  \n",
      " 6   comuna_ciudadano        10920 non-null  float64\n",
      " 7   fecha_de_beneficio      10920 non-null  object \n",
      " 8   monto_del_credito       10920 non-null  object \n",
      " 9   línea_credito           10920 non-null  object \n",
      "dtypes: float64(1), int64(2), object(7)\n",
      "memory usage: 853.3+ KB\n",
      "None\n",
      "         Unnamed: 0       estrato  comuna_ciudadano\n",
      "count  10920.000000  10920.000000      10920.000000\n",
      "mean    5459.500000      2.106227         11.671703\n",
      "std     3152.476804      0.706153         17.407382\n",
      "min        0.000000      0.000000          1.000000\n",
      "25%     2729.750000      2.000000          4.000000\n",
      "50%     5459.500000      2.000000          7.000000\n",
      "75%     8189.250000      3.000000         10.000000\n",
      "max    10919.000000      3.000000         90.000000\n",
      "            sexo tipo_de_emprendimiento idea_negocio   barrio  \\\n",
      "count      10920                  10818        10920    10818   \n",
      "unique         6                     11          213      430   \n",
      "top     femenino               comercio  fabrica de   robledo   \n",
      "freq        6793                   5742         1757     1000   \n",
      "\n",
      "       fecha_de_beneficio monto_del_credito     línea_credito  \n",
      "count               10920             10920             10920  \n",
      "unique               1229               333                17  \n",
      "top             3/10/2018           7800000  microempresarial  \n",
      "freq                   67              1190             10191  \n"
     ]
    }
   ],
   "source": [
    "# Ver tamaño del DataFrame\n",
    "print(df.shape)\n",
    "# Ver nombres de columnas y tipos de datos\n",
    "print(df.info())\n",
    "\n",
    "# Estadísticas generales para columnas numéricas\n",
    "print(df.describe())\n",
    "\n",
    "# Estadísticas para columnas categóricas o tipo objeto\n",
    "print(df.describe(include='object'))"
   ]
  },
  {
   "cell_type": "markdown",
   "id": "2f9e26a6",
   "metadata": {},
   "source": [
    "DETECTAR VALORES NULOS"
   ]
  },
  {
   "cell_type": "code",
   "execution_count": 30,
   "id": "ed822724",
   "metadata": {},
   "outputs": [
    {
     "name": "stdout",
     "output_type": "stream",
     "text": [
      "Unnamed: 0                  0\n",
      "sexo                        0\n",
      "tipo_de_emprendimiento    102\n",
      "idea_negocio                0\n",
      "barrio                    102\n",
      "estrato                     0\n",
      "comuna_ciudadano            0\n",
      "fecha_de_beneficio          0\n",
      "monto_del_credito           0\n",
      "línea_credito               0\n",
      "dtype: int64\n",
      "Unnamed: 0                0.00\n",
      "sexo                      0.00\n",
      "tipo_de_emprendimiento    0.93\n",
      "idea_negocio              0.00\n",
      "barrio                    0.93\n",
      "estrato                   0.00\n",
      "comuna_ciudadano          0.00\n",
      "fecha_de_beneficio        0.00\n",
      "monto_del_credito         0.00\n",
      "línea_credito             0.00\n",
      "dtype: float64\n"
     ]
    }
   ],
   "source": [
    "# Conteo de valores nulos por columna\n",
    "print(df.isnull().sum())\n",
    "\n",
    "# Porcentaje de valores nulos\n",
    "print((df.isnull().mean() * 100).round(2))\n"
   ]
  },
  {
   "cell_type": "markdown",
   "id": "f85a7981",
   "metadata": {},
   "source": [
    "VER VALORES ÚNICOS POR COLUMNA (útil para detectar inconsistencias)"
   ]
  },
  {
   "cell_type": "code",
   "execution_count": 31,
   "id": "92021cdd",
   "metadata": {},
   "outputs": [
    {
     "name": "stdout",
     "output_type": "stream",
     "text": [
      "Columna: Unnamed: 0\n",
      "Unnamed: 0\n",
      "0    1\n",
      "1    1\n",
      "2    1\n",
      "3    1\n",
      "4    1\n",
      "5    1\n",
      "6    1\n",
      "7    1\n",
      "8    1\n",
      "9    1\n",
      "Name: count, dtype: int64\n",
      "----------------------------------------\n",
      "Columna: sexo\n",
      "sexo\n",
      "femenino     6793\n",
      "masculino    3686\n",
      "FEMENINO      165\n",
      "Femenino      120\n",
      "MASCULINO      88\n",
      "Masculino      68\n",
      "Name: count, dtype: int64\n",
      "----------------------------------------\n",
      "Columna: tipo_de_emprendimiento\n",
      "tipo_de_emprendimiento\n",
      "comercio        5742\n",
      "servicio        2257\n",
      "industria       2236\n",
      "COMERCIO         175\n",
      "agropecuaria     171\n",
      "NaN              102\n",
      "INDUSTRIA         75\n",
      "Comercio          55\n",
      "SERVICIO          55\n",
      "Servicio          27\n",
      "Name: count, dtype: int64\n",
      "----------------------------------------\n",
      "Columna: idea_negocio\n",
      "idea_negocio\n",
      "fabrica de             1757\n",
      "variedades             1699\n",
      "tienda                  987\n",
      "comidas rapidas         904\n",
      "peluqueria              594\n",
      "almacen de ropa en      566\n",
      "restaurante             273\n",
      "mantenimiento en        204\n",
      "papeleria               164\n",
      "barberia                160\n",
      "Name: count, dtype: int64\n",
      "----------------------------------------\n",
      "Columna: barrio\n",
      "barrio\n",
      "robledo                   1000\n",
      "manrique central no. 1     475\n",
      "san javier no.1            416\n",
      "aranjuez                   382\n",
      "belen                      381\n",
      "buenos aires               372\n",
      "popular                    367\n",
      "cabecera san cristobal     342\n",
      "castilla                   337\n",
      "enciso                     312\n",
      "Name: count, dtype: int64\n",
      "----------------------------------------\n",
      "Columna: estrato\n",
      "estrato\n",
      "2    5361\n",
      "3    3361\n",
      "1    2195\n",
      "0       3\n",
      "Name: count, dtype: int64\n",
      "----------------------------------------\n",
      "Columna: comuna_ciudadano\n",
      "comuna_ciudadano\n",
      "4.0     1421\n",
      "7.0     1198\n",
      "9.0     1041\n",
      "1.0      894\n",
      "13.0     893\n",
      "8.0      781\n",
      "5.0      710\n",
      "2.0      680\n",
      "3.0      622\n",
      "6.0      595\n",
      "Name: count, dtype: int64\n",
      "----------------------------------------\n",
      "Columna: fecha_de_beneficio\n",
      "fecha_de_beneficio\n",
      "3/10/2018     67\n",
      "11/10/2018    60\n",
      "14/09/2018    42\n",
      "25/04/2018    41\n",
      "24/09/2018    39\n",
      "24/10/2018    38\n",
      "4/04/2018     37\n",
      "25/10/2018    37\n",
      "26/10/2018    37\n",
      "5/07/2018     37\n",
      "Name: count, dtype: int64\n",
      "----------------------------------------\n",
      "Columna: monto_del_credito\n",
      "monto_del_credito\n",
      "7800000    1190\n",
      "7000000    1068\n",
      "5000000    1056\n",
      "6000000     961\n",
      "4000000     769\n",
      "3000000     629\n",
      "6890000     598\n",
      "7300000     491\n",
      "7377000     473\n",
      "2000000     396\n",
      "Name: count, dtype: int64\n",
      "----------------------------------------\n",
      "Columna: línea_credito\n",
      "línea_credito\n",
      "microempresarial          10191\n",
      "Microempresarial            356\n",
      "MICROEMPRESARIAL            175\n",
      "empresarial ed.              69\n",
      "agropecuaria                 58\n",
      "juridica y cap.semilla       30\n",
      "credioportuno                21\n",
      "fomento agropecuario          5\n",
      "Agropecuaria                  3\n",
      "empresarial-ed.-              2\n",
      "Name: count, dtype: int64\n",
      "----------------------------------------\n"
     ]
    }
   ],
   "source": [
    "for col in df.columns:\n",
    "    print(f\"Columna: {col}\")\n",
    "    print(df[col].value_counts(dropna=False).head(10))  # Muestra los valores más comunes\n",
    "    print('-' * 40)\n"
   ]
  },
  {
   "cell_type": "markdown",
   "id": "e8127441",
   "metadata": {},
   "source": [
    "BUSCAR DUPLICADOS"
   ]
  },
  {
   "cell_type": "code",
   "execution_count": 32,
   "id": "e1bfd659",
   "metadata": {},
   "outputs": [
    {
     "name": "stdout",
     "output_type": "stream",
     "text": [
      "Filas duplicadas: 0\n"
     ]
    }
   ],
   "source": [
    "# Verificar filas duplicadas\n",
    "print(f\"Filas duplicadas: {df.duplicated().sum()}\")\n"
   ]
  },
  {
   "cell_type": "markdown",
   "id": "705e0ea2",
   "metadata": {},
   "source": [
    "VISUALIZACIÓN DATA"
   ]
  },
  {
   "cell_type": "code",
   "execution_count": 33,
   "id": "0d156bb3",
   "metadata": {},
   "outputs": [
    {
     "data": {
      "image/png": "[encoded data removed]",
      "text/plain": [
       "<Figure size 1400x1000 with 4 Axes>"
      ]
     },
     "metadata": {},
     "output_type": "display_data"
    },
    {
     "data": {
      "image/png": "[encoded data removed]",
      "text/plain": [
       "<Figure size 640x480 with 1 Axes>"
      ]
     },
     "metadata": {},
     "output_type": "display_data"
    }
   ],
   "source": [
    "# Histograma para columnas numéricas\n",
    "df.hist(bins=20, figsize=(14, 10))\n",
    "plt.tight_layout()\n",
    "plt.show()\n",
    "\n",
    "# Mapa de calor de nulos\n",
    "sns.heatmap(df.isnull(), cbar=False, cmap='viridis')\n",
    "plt.title('Valores nulos en el DataFrame')\n",
    "plt.show()\n"
   ]
  },
  {
   "cell_type": "markdown",
   "id": "58e330be",
   "metadata": {},
   "source": [
    "EXPLORACIÓN DE COLUMNAS"
   ]
  },
  {
   "cell_type": "code",
   "execution_count": 34,
   "id": "6d3b1884",
   "metadata": {},
   "outputs": [],
   "source": [
    "def explorar_columnas_object(df, max_valores_unicos=20):\n",
    "    print(\"🔠 Exploración de columnas tipo 'object':\\n\")\n",
    "    columnas_object = df.select_dtypes(include='object').columns\n",
    "\n",
    "    for col in columnas_object:\n",
    "        print(\"=\" * 70)\n",
    "        print(f\"📌 Columna: '{col}'\")\n",
    "        print(\"- Nulos:\", df[col].isnull().sum())\n",
    "        print(\"- Total únicos:\", df[col].nunique())\n",
    "\n",
    "        valores = df[col].dropna().str.strip().str.lower()\n",
    "        if df[col].nunique() <= max_valores_unicos:\n",
    "            print(\"➡️ Posible categórica\")\n",
    "        else:\n",
    "            print(\"➡️ Alta cardinalidad (texto libre o nombres únicos)\")\n",
    "\n",
    "        print(\"🔍 Frecuencia de valores (normalizados):\")\n",
    "        print(valores.value_counts().head(10))\n",
    "\n",
    "        print(\"🧼 Sugerencias:\")\n",
    "        print(\"- Aplicar .str.lower() y .strip() para normalizar\")\n",
    "        if df[col].nunique() <= max_valores_unicos:\n",
    "            print(\"- Convertir a dtype 'category' tras limpieza\")\n",
    "\n",
    "# Úsala así:\n",
    "# explorar_columnas_object(df)\n"
   ]
  },
  {
   "cell_type": "code",
   "execution_count": 35,
   "id": "5a84feb6",
   "metadata": {},
   "outputs": [
    {
     "name": "stdout",
     "output_type": "stream",
     "text": [
      "🔠 Exploración de columnas tipo 'object':\n",
      "\n",
      "======================================================================\n",
      "📌 Columna: 'sexo'\n",
      "- Nulos: 0\n",
      "- Total únicos: 6\n",
      "➡️ Posible categórica\n",
      "🔍 Frecuencia de valores (normalizados):\n",
      "sexo\n",
      "femenino     7078\n",
      "masculino    3842\n",
      "Name: count, dtype: int64\n",
      "🧼 Sugerencias:\n",
      "- Aplicar .str.lower() y .strip() para normalizar\n",
      "- Convertir a dtype 'category' tras limpieza\n",
      "======================================================================\n",
      "📌 Columna: 'tipo_de_emprendimiento'\n",
      "- Nulos: 102\n",
      "- Total únicos: 11\n",
      "➡️ Posible categórica\n",
      "🔍 Frecuencia de valores (normalizados):\n",
      "tipo_de_emprendimiento\n",
      "comercio        5972\n",
      "servicio        2339\n",
      "industria       2331\n",
      "agropecuaria     176\n",
      "Name: count, dtype: int64\n",
      "🧼 Sugerencias:\n",
      "- Aplicar .str.lower() y .strip() para normalizar\n",
      "- Convertir a dtype 'category' tras limpieza\n",
      "======================================================================\n",
      "📌 Columna: 'idea_negocio'\n",
      "- Nulos: 0\n",
      "- Total únicos: 213\n",
      "➡️ Alta cardinalidad (texto libre o nombres únicos)\n",
      "🔍 Frecuencia de valores (normalizados):\n",
      "idea_negocio\n",
      "fabrica de            1852\n",
      "variedades            1797\n",
      "tienda                1049\n",
      "comidas rapidas        952\n",
      "peluqueria             627\n",
      "almacen de ropa en     594\n",
      "restaurante            286\n",
      "mantenimiento en       220\n",
      "papeleria              172\n",
      "barberia               168\n",
      "Name: count, dtype: int64\n",
      "🧼 Sugerencias:\n",
      "- Aplicar .str.lower() y .strip() para normalizar\n",
      "======================================================================\n",
      "📌 Columna: 'barrio'\n",
      "- Nulos: 102\n",
      "- Total únicos: 430\n",
      "➡️ Alta cardinalidad (texto libre o nombres únicos)\n",
      "🔍 Frecuencia de valores (normalizados):\n",
      "barrio\n",
      "robledo                   1036\n",
      "manrique central no. 1     491\n",
      "san javier no.1            432\n",
      "aranjuez                   406\n",
      "belen                      394\n",
      "popular                    386\n",
      "buenos aires               382\n",
      "cabecera san cristobal     361\n",
      "castilla                   348\n",
      "enciso                     328\n",
      "Name: count, dtype: int64\n",
      "🧼 Sugerencias:\n",
      "- Aplicar .str.lower() y .strip() para normalizar\n",
      "======================================================================\n",
      "📌 Columna: 'fecha_de_beneficio'\n",
      "- Nulos: 0\n",
      "- Total únicos: 1229\n",
      "➡️ Alta cardinalidad (texto libre o nombres únicos)\n",
      "🔍 Frecuencia de valores (normalizados):\n",
      "fecha_de_beneficio\n",
      "3/10/2018     67\n",
      "11/10/2018    60\n",
      "14/09/2018    42\n",
      "25/04/2018    41\n",
      "24/09/2018    39\n",
      "24/10/2018    38\n",
      "4/04/2018     37\n",
      "25/10/2018    37\n",
      "26/10/2018    37\n",
      "5/07/2018     37\n",
      "Name: count, dtype: int64\n",
      "🧼 Sugerencias:\n",
      "- Aplicar .str.lower() y .strip() para normalizar\n",
      "======================================================================\n",
      "📌 Columna: 'monto_del_credito'\n",
      "- Nulos: 0\n",
      "- Total únicos: 333\n",
      "➡️ Alta cardinalidad (texto libre o nombres únicos)\n",
      "🔍 Frecuencia de valores (normalizados):\n",
      "monto_del_credito\n",
      "7800000    1190\n",
      "7000000    1068\n",
      "5000000    1056\n",
      "6000000     961\n",
      "4000000     769\n",
      "3000000     629\n",
      "6890000     598\n",
      "7300000     491\n",
      "7377000     473\n",
      "2000000     396\n",
      "Name: count, dtype: int64\n",
      "🧼 Sugerencias:\n",
      "- Aplicar .str.lower() y .strip() para normalizar\n",
      "======================================================================\n",
      "📌 Columna: 'línea_credito'\n",
      "- Nulos: 0\n",
      "- Total únicos: 17\n",
      "➡️ Posible categórica\n",
      "🔍 Frecuencia de valores (normalizados):\n",
      "línea_credito\n",
      "microempresarial          10722\n",
      "empresarial ed.              70\n",
      "agropecuaria                 61\n",
      "juridica y cap.semilla       32\n",
      "credioportuno                21\n",
      "fomento agropecuario          5\n",
      "soli-diaria                   2\n",
      "empresarial-ed.-              2\n",
      "juridica_y_cap.semilla        2\n",
      "solidaria                     1\n",
      "Name: count, dtype: int64\n",
      "🧼 Sugerencias:\n",
      "- Aplicar .str.lower() y .strip() para normalizar\n",
      "- Convertir a dtype 'category' tras limpieza\n"
     ]
    }
   ],
   "source": [
    "explorar_columnas_object(df)"
   ]
  }
 ],
 "metadata": {
  "kernelspec": {
   "display_name": ".venv",
   "language": "python",
   "name": "python3"
  },
  "language_info": {
   "codemirror_mode": {
    "name": "ipython",
    "version": 3
   },
   "file_extension": ".py",
   "mimetype": "text/x-python",
   "name": "python",
   "nbconvert_exporter": "python",
   "pygments_lexer": "ipython3",
   "version": "3.13.3"
  }
 },
 "nbformat": 4,
 "nbformat_minor": 5
}
